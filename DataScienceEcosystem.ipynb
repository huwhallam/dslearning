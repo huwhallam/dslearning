{
 "cells": [
  {
   "cell_type": "markdown",
   "id": "170a4cdd-9222-4a7b-afd6-3f5b5f86c8e7",
   "metadata": {},
   "source": [
    "# Data Science Tools and Ecosystem"
   ]
  },
  {
   "cell_type": "markdown",
   "id": "b843c1d8-a642-495c-88c3-901c41705065",
   "metadata": {},
   "source": [
    "## Author\n",
    "Huw Hallam"
   ]
  },
  {
   "cell_type": "markdown",
   "id": "22abb70c-665c-42fd-9691-d758eb6953df",
   "metadata": {},
   "source": [
    "This notebook provides a summary of data science tools and ecosystem."
   ]
  },
  {
   "cell_type": "markdown",
   "id": "e92f45e6-eddb-4737-89f7-9dbfb7f93dc5",
   "metadata": {},
   "source": [
    "**Objectives**\n",
    "* List popular languages for data science\n",
    "* List commonly used libraries\n",
    "* List key open source development environments\n",
    "* Provide examples of basic arithmetic expressions"
   ]
  },
  {
   "cell_type": "markdown",
   "id": "f87dc814-e1fb-4e34-912b-fbbca7814d9d",
   "metadata": {},
   "source": [
    "Popular data science languages include:\n",
    "1. Python\n",
    "2. R\n",
    "3. Java\n",
    "4. Julia\n",
    "5. Scala"
   ]
  },
  {
   "cell_type": "markdown",
   "id": "d7da4bdf-a5d3-4ad8-8c58-c53c1255de32",
   "metadata": {},
   "source": [
    "Some of the libraries commonly used by data scientists include:\n",
    "1. Pandas\n",
    "2. Matplotlib\n",
    "3. Seaborn\n",
    "4. Scikit-learn\n",
    "5. TensorFlow"
   ]
  },
  {
   "cell_type": "markdown",
   "id": "b86d9ca4-ea5c-4814-9a25-97af5c4ad618",
   "metadata": {},
   "source": [
    "| Data Science Tools |\n",
    " --- \n",
    "| JupyterLab |\n",
    "| RStudio |\n",
    "| IBM Watson Studio |\n",
    "| Spyder |"
   ]
  },
  {
   "cell_type": "markdown",
   "id": "6aa5d954-a4ed-4172-b33e-81500fef2d6f",
   "metadata": {},
   "source": [
    "### The following are examples of how arithmetic expressions are evaluated in Python"
   ]
  },
  {
   "cell_type": "code",
   "execution_count": 1,
   "id": "37f49b13-59b9-4f4e-b6a7-f16b5d46e053",
   "metadata": {
    "tags": []
   },
   "outputs": [
    {
     "data": {
      "text/plain": [
       "17"
      ]
     },
     "execution_count": 1,
     "metadata": {},
     "output_type": "execute_result"
    }
   ],
   "source": [
    "# This a simple arithmetic expression to mutiply then add integers\n",
    "(3*4)+5"
   ]
  },
  {
   "cell_type": "code",
   "execution_count": 2,
   "id": "0f28d31b-7837-4c4f-9cb2-a706e1017323",
   "metadata": {
    "tags": []
   },
   "outputs": [
    {
     "data": {
      "text/plain": [
       "'200 minutes = 3.33 hours'"
      ]
     },
     "execution_count": 2,
     "metadata": {},
     "output_type": "execute_result"
    }
   ],
   "source": [
    "# This will convert 200 minutes to hours by diving by 60\n",
    "timeInMinutes = 200\n",
    "timeInHours = round(timeInMinutes/60, 2)\n",
    "#print(timeInMinutes + \" minutes = \" + timeInHours + \" hours\")\n",
    "f\"{timeInMinutes} minutes = {timeInHours} hours\""
   ]
  },
  {
   "cell_type": "code",
   "execution_count": null,
   "id": "becc55bb-40e0-40e5-b94a-eb7f4f83f7a1",
   "metadata": {},
   "outputs": [],
   "source": []
  }
 ],
 "metadata": {
  "kernelspec": {
   "display_name": "Python",
   "language": "python",
   "name": "conda-env-python-py"
  },
  "language_info": {
   "codemirror_mode": {
    "name": "ipython",
    "version": 3
   },
   "file_extension": ".py",
   "mimetype": "text/x-python",
   "name": "python",
   "nbconvert_exporter": "python",
   "pygments_lexer": "ipython3",
   "version": "3.7.12"
  }
 },
 "nbformat": 4,
 "nbformat_minor": 5
}
